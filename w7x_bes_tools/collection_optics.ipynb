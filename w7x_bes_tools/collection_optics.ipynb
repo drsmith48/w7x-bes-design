{
 "cells": [
  {
   "cell_type": "code",
   "execution_count": 1,
   "metadata": {},
   "outputs": [],
   "source": [
    "import numpy as np"
   ]
  },
  {
   "cell_type": "code",
   "execution_count": 2,
   "metadata": {},
   "outputs": [
    {
     "name": "stdout",
     "output_type": "stream",
     "text": [
      "5.955461778905143\n",
      "155.0157088813904 2229.362736299322 2384.3784451807123\n"
     ]
    }
   ],
   "source": [
    "# XYZ of sightline grid center on Source 7\n",
    "nb_target = np.array([0.255, 5.945, 0.230]) * 1e3  # mm\n",
    "\n",
    "print(np.sqrt(0.255**2+5.95**2))\n",
    "\n",
    "# mirror center\n",
    "mirror = np.array([-1956.4, 5662.6, 234.3])  # mm\n",
    "\n",
    "# vacuum window center\n",
    "window = np.array([-2019.5, 5642.1, 374.4])  # mm\n",
    "\n",
    "mirror_beam = np.linalg.norm(nb_target - mirror)\n",
    "window_mirror = np.linalg.norm(mirror - window)\n",
    "\n",
    "print(window_mirror, mirror_beam, window_mirror+mirror_beam)"
   ]
  },
  {
   "cell_type": "code",
   "execution_count": null,
   "metadata": {},
   "outputs": [],
   "source": []
  }
 ],
 "metadata": {
  "kernelspec": {
   "display_name": "Python 3.9.12 ('base')",
   "language": "python",
   "name": "python3"
  },
  "language_info": {
   "codemirror_mode": {
    "name": "ipython",
    "version": 3
   },
   "file_extension": ".py",
   "mimetype": "text/x-python",
   "name": "python",
   "nbconvert_exporter": "python",
   "pygments_lexer": "ipython3",
   "version": "3.9.12"
  },
  "orig_nbformat": 4,
  "vscode": {
   "interpreter": {
    "hash": "3d597f4c481aa0f25dceb95d2a0067e73c0966dcbd003d741d821a7208527ecf"
   }
  }
 },
 "nbformat": 4,
 "nbformat_minor": 2
}
