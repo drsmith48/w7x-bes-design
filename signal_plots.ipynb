{
 "cells": [
  {
   "cell_type": "markdown",
   "metadata": {},
   "source": [
    "# Simulated spectra for signals and noise"
   ]
  },
  {
   "cell_type": "code",
   "execution_count": 1,
   "metadata": {},
   "outputs": [
    {
     "name": "stdout",
     "output_type": "stream",
     "text": [
      "AP PDB-C164 disc. PIN\n",
      "  QE = 81.3 %\n",
      "  Resp. = 0.43 A/W\n",
      "  Dark current (total or vol.) = 1.0 nA\n",
      "  Junction cap = 7.0 pF\n",
      "  Shunt res. = 500 MOhms\n",
      "  Ref. bias voltage = 10 V\n",
      "  Ref. temp. = 20 C\n",
      "Hama. S13620 8x8 PIN\n",
      "  QE = 92.6 %\n",
      "  Resp. = 0.49 A/W\n",
      "  Dark current (total or vol.) = 0.3 nA\n",
      "  Junction cap = 15.0 pF\n",
      "  Shunt res. = 250 MOhms\n",
      "  Ref. bias voltage = 9 V\n",
      "  Ref. temp. = 20 C\n",
      "AP SD197 disc. APD\n",
      "  QE = 76.0 %\n",
      "  Resp. = 0.40 A/W\n",
      "  Dark current (total or vol.) = 6.0 nA\n",
      "  Junction cap = 25.0 pF\n",
      "  Shunt res. = 250 MOhms\n",
      "  Ref. bias voltage = 1800 V\n",
      "  Ref. temp. = 20 C\n",
      "  Gain = 300\n",
      "  Noise factor = 2.2\n",
      "Hama. S8550 4x8 APD\n",
      "  QE = 85.0 %\n",
      "  Resp. = 0.45 A/W\n",
      "  Dark current (total or vol.) = 1.0 nA\n",
      "  Junction cap = 9.0 pF\n",
      "  Shunt res. = 250 MOhms\n",
      "  Ref. bias voltage = 330 V\n",
      "  Ref. temp. = 20 C\n",
      "  Gain = 50\n",
      "  Noise index = 0.20\n",
      "  Noise factor = 2.2\n"
     ]
    }
   ],
   "source": [
    "%matplotlib inline\n",
    "\n",
    "%load_ext autoreload\n",
    "%autoreload 1\n",
    "\n",
    "import numpy as np\n",
    "import matplotlib\n",
    "matplotlib.rcParams['figure.dpi'] = 90\n",
    "\n",
    "import matplotlib.pyplot as plt\n",
    "\n",
    "from matplotlib_inline.backend_inline import set_matplotlib_formats\n",
    "set_matplotlib_formats('png','pdf')\n",
    "\n",
    "%aimport detectors\n",
    "\n",
    "diodes = detectors.diodes\n",
    "TIA = detectors.TIA()\n",
    "\n",
    "savefig = True\n",
    "ifig = 1"
   ]
  },
  {
   "cell_type": "code",
   "execution_count": null,
   "metadata": {},
   "outputs": [],
   "source": []
  }
 ],
 "metadata": {
  "interpreter": {
   "hash": "f0be9cc6073595f304addfab8c3fdb5f03094309047cd6a9a8c37a17c55087ca"
  },
  "kernelspec": {
   "display_name": "Python 3.9.7 64-bit ('base': conda)",
   "language": "python",
   "name": "python3"
  },
  "language_info": {
   "codemirror_mode": {
    "name": "ipython",
    "version": 3
   },
   "file_extension": ".py",
   "mimetype": "text/x-python",
   "name": "python",
   "nbconvert_exporter": "python",
   "pygments_lexer": "ipython3",
   "version": "3.9.7"
  },
  "orig_nbformat": 4
 },
 "nbformat": 4,
 "nbformat_minor": 2
}
